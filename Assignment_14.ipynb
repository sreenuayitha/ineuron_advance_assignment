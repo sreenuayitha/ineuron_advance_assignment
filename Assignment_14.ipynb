{
 "cells": [
  {
   "cell_type": "markdown",
   "id": "2bbe9c3b",
   "metadata": {},
   "source": [
    "### Q1. Is an assignment operator like += only for show? Is it possible that it would lead to faster results at the runtime?"
   ]
  },
  {
   "cell_type": "markdown",
   "id": "8c86e3da",
   "metadata": {},
   "source": [
    "### Answer-\n",
    "+= is fatser and easy to write for us. runtime of a += 5 is slightly less than a = a + 5 but, the difference is really minor."
   ]
  },
  {
   "cell_type": "markdown",
   "id": "4ba962ed",
   "metadata": {},
   "source": [
    "### Q2. What is the smallest number of statements you&#39;d have to write in most programming languages to replace the Python expression a, b = a + b, a?"
   ]
  },
  {
   "cell_type": "markdown",
   "id": "5f1cd81d",
   "metadata": {},
   "source": [
    "### Answer-\n",
    "Two"
   ]
  },
  {
   "cell_type": "markdown",
   "id": "58feefac",
   "metadata": {},
   "source": [
    "### Q3. In Python, what is the most effective way to set a list of 100 integers to 0?"
   ]
  },
  {
   "cell_type": "code",
   "execution_count": 1,
   "id": "abaa4aaa",
   "metadata": {},
   "outputs": [
    {
     "name": "stdout",
     "output_type": "stream",
     "text": [
      "[0, 0, 0, 0, 0, 0, 0, 0, 0, 0, 0, 0, 0, 0, 0, 0, 0, 0, 0, 0, 0, 0, 0, 0, 0, 0, 0, 0, 0, 0, 0, 0, 0, 0, 0, 0, 0, 0, 0, 0, 0, 0, 0, 0, 0, 0, 0, 0, 0, 0, 0, 0, 0, 0, 0, 0, 0, 0, 0, 0, 0, 0, 0, 0, 0, 0, 0, 0, 0, 0, 0, 0, 0, 0, 0, 0, 0, 0, 0, 0, 0, 0, 0, 0, 0, 0, 0, 0, 0, 0, 0, 0, 0, 0, 0, 0, 0, 0, 0, 0]\n"
     ]
    }
   ],
   "source": [
    "l=[0]*100\n",
    "\n",
    "print(l)"
   ]
  },
  {
   "cell_type": "markdown",
   "id": "a7a4cfa5",
   "metadata": {},
   "source": [
    "### Q4. What is the most effective way to initialise a list of 99 integers that repeats the sequence 1, 2, 3? S If necessary, show step-by-step instructions on how to accomplish this."
   ]
  },
  {
   "cell_type": "code",
   "execution_count": 2,
   "id": "806b15cb",
   "metadata": {},
   "outputs": [
    {
     "name": "stdout",
     "output_type": "stream",
     "text": [
      "[1, 2, 3, 1, 2, 3, 1, 2, 3, 1, 2, 3, 1, 2, 3, 1, 2, 3, 1, 2, 3, 1, 2, 3, 1, 2, 3, 1, 2, 3, 1, 2, 3, 1, 2, 3, 1, 2, 3, 1, 2, 3, 1, 2, 3, 1, 2, 3, 1, 2, 3, 1, 2, 3, 1, 2, 3, 1, 2, 3, 1, 2, 3, 1, 2, 3, 1, 2, 3, 1, 2, 3, 1, 2, 3, 1, 2, 3, 1, 2, 3, 1, 2, 3, 1, 2, 3, 1, 2, 3, 1, 2, 3, 1, 2, 3, 1, 2, 3]\n"
     ]
    }
   ],
   "source": [
    "l1 = [1,2,3] # create a list containing 1,2,3\n",
    "\n",
    "count = int(101/len(l1)) # repeat count\n",
    "\n",
    "l =  l1 * count # * operator is used to repeat the list\n",
    "\n",
    "print(l)"
   ]
  },
  {
   "cell_type": "markdown",
   "id": "a60eb4b5",
   "metadata": {},
   "source": [
    "### Q5. If you&#39;re using IDLE to run a Python application, explain how to print a multidimensional list as efficiently?"
   ]
  },
  {
   "cell_type": "markdown",
   "id": "d600a415",
   "metadata": {},
   "source": [
    "We can print multidimentional list by simply writing the name of the variable in a cell"
   ]
  },
  {
   "cell_type": "code",
   "execution_count": 3,
   "id": "c3a3cf14",
   "metadata": {},
   "outputs": [
    {
     "data": {
      "text/plain": [
       "[[1, 2, 3, 4], ['A', 'B'], [5, 6, 7, 8]]"
      ]
     },
     "execution_count": 3,
     "metadata": {},
     "output_type": "execute_result"
    }
   ],
   "source": [
    "l = [[1,2,3,4],['A','B'],[5,6,7,8]]\n",
    "\n",
    "l"
   ]
  },
  {
   "cell_type": "markdown",
   "id": "51f1097d",
   "metadata": {},
   "source": [
    "### Q6. Is it possible to use list comprehension with a string? If so, how can you go about doing it?"
   ]
  },
  {
   "cell_type": "markdown",
   "id": "4575396c",
   "metadata": {},
   "source": [
    "yes its possible to use list comprehension with a string"
   ]
  },
  {
   "cell_type": "code",
   "execution_count": 5,
   "id": "a1bd2513",
   "metadata": {},
   "outputs": [
    {
     "data": {
      "text/plain": [
       "['aa', 'kk', 'aa', 'ss', 'hh']"
      ]
     },
     "execution_count": 5,
     "metadata": {},
     "output_type": "execute_result"
    }
   ],
   "source": [
    "s = 'akash'\n",
    "\n",
    "[i*2 for i in s]"
   ]
  },
  {
   "cell_type": "markdown",
   "id": "2cdebe0a",
   "metadata": {},
   "source": [
    "### Q7. From the command line, how do you get support with a user-written Python programme? Is this possible from inside IDLE?"
   ]
  },
  {
   "cell_type": "markdown",
   "id": "4b0f79ec",
   "metadata": {},
   "source": [
    "### Answer-\n",
    "Steps for command line:\n",
    "\n",
    "    1. Open command prompt.\n",
    "    2. Go to the directory containing python program file(.py)\n",
    "    3. Type \"python file_name.py\", press enter to run the file.\n",
    "\n",
    "Steps for python IDLE:\n",
    "\n",
    "    1. Open python IDLE.\n",
    "    2. Click on file>open>file_name.py\n",
    "    3. Press F5 key to run the program."
   ]
  },
  {
   "cell_type": "markdown",
   "id": "e4c76112",
   "metadata": {},
   "source": [
    "### Q8. Functions are said to be “first-class objects” in Python but not in most other languages, such as C++ or Java. What can you do in Python with a function (callable object) that you can&#39;t do in C or C++?"
   ]
  },
  {
   "cell_type": "markdown",
   "id": "151f3c6a",
   "metadata": {},
   "source": [
    "### Answer-\n",
    "In Python, functions are like any other object, such as an int or a list. That means that you can use functions as arguments to other functions, store functions as dictionary values, or return a function from another function. This leads to many powerful ways to use functions."
   ]
  },
  {
   "cell_type": "markdown",
   "id": "e50459a9",
   "metadata": {},
   "source": [
    "### Q9. How do you distinguish between a wrapper, a wrapped feature, and a decorator?"
   ]
  },
  {
   "cell_type": "markdown",
   "id": "cd9c344d",
   "metadata": {},
   "source": [
    "### Answer-\n",
    "A wrapper, a wrapped feature, and a decorator are all same. They can be thought of as functions which modify the functionality of another function. They help to make your code shorter and more \"Pythonic\"."
   ]
  },
  {
   "cell_type": "markdown",
   "id": "63aea032",
   "metadata": {},
   "source": [
    "### Q10. If a function is a generator function, what does it return?"
   ]
  },
  {
   "cell_type": "markdown",
   "id": "ab72a0ce",
   "metadata": {},
   "source": [
    "### Answer-\n",
    "If a function is a generator function, it does not return any values, instead, it return an iterator object, which we can iterate through to get values."
   ]
  },
  {
   "cell_type": "markdown",
   "id": "8b6bf21b",
   "metadata": {},
   "source": [
    "### Q11. What is the one improvement that must be made to a function in order for it to become a generator function in the Python language?"
   ]
  },
  {
   "cell_type": "markdown",
   "id": "99e7fb82",
   "metadata": {},
   "source": [
    "We can use \"yield\" keyword instead of \"return\" to make function a generator."
   ]
  },
  {
   "cell_type": "code",
   "execution_count": 6,
   "id": "4f776b4c",
   "metadata": {},
   "outputs": [
    {
     "name": "stdout",
     "output_type": "stream",
     "text": [
      "0\n",
      "2\n",
      "4\n",
      "6\n",
      "8\n"
     ]
    }
   ],
   "source": [
    "def even_nos(n):\n",
    "    for i in range(n):\n",
    "        if i % 2 == 0:\n",
    "            yield i\n",
    "\n",
    "for i in even_nos(10):\n",
    "    print(i)"
   ]
  },
  {
   "cell_type": "markdown",
   "id": "1a1f6571",
   "metadata": {},
   "source": [
    "### Q12. Identify at least one benefit of generators."
   ]
  },
  {
   "cell_type": "markdown",
   "id": "c2d582b5",
   "metadata": {},
   "source": [
    "### Answer-\n",
    "The main advantage here is that instead of having to compute an entire series of values up front, the generator computes one value and then suspends its activity awaiting the next instruction. This feature is known as state suspension.\n",
    "\n",
    "Generators are memory efficient."
   ]
  },
  {
   "cell_type": "code",
   "execution_count": null,
   "id": "0ff0aca8",
   "metadata": {},
   "outputs": [],
   "source": []
  }
 ],
 "metadata": {
  "kernelspec": {
   "display_name": "Python 3 (ipykernel)",
   "language": "python",
   "name": "python3"
  },
  "language_info": {
   "codemirror_mode": {
    "name": "ipython",
    "version": 3
   },
   "file_extension": ".py",
   "mimetype": "text/x-python",
   "name": "python",
   "nbconvert_exporter": "python",
   "pygments_lexer": "ipython3",
   "version": "3.9.13"
  }
 },
 "nbformat": 4,
 "nbformat_minor": 5
}
