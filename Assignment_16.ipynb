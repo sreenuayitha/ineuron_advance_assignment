{
 "cells": [
  {
   "cell_type": "markdown",
   "id": "f8d9b6cc",
   "metadata": {},
   "source": [
    "### Q1. What is the benefit of regular expressions?"
   ]
  },
  {
   "cell_type": "markdown",
   "id": "8ba78afe",
   "metadata": {},
   "source": [
    "### Answer-\n",
    "Regular expression let us search the piece of text that matches the given pattern. The main benefit of using them is, it saves lot of time and are very eeficient to use."
   ]
  },
  {
   "cell_type": "markdown",
   "id": "d1b0c06a",
   "metadata": {},
   "source": [
    "### Q2. Describe the difference between the effects of &quot;(ab)c+&quot; and &quot;a(bc)+.&quot; Which of these, if any, is the unqualified pattern &quot;abc+&quot;?"
   ]
  },
  {
   "cell_type": "markdown",
   "id": "9e51f1da",
   "metadata": {},
   "source": [
    "Pattern (ab)c+ will search for at only one occurence of \"ab\" and one or more occurances of c.\n",
    "\n",
    "Pattern a(bc)+ will search for at only one occurence of \"a\" and one or more occurances of bc.\n",
    "\n",
    "pattern (ab)c+ can be unqualified pattern \"abc+\""
   ]
  },
  {
   "cell_type": "code",
   "execution_count": 1,
   "id": "02c09ca0",
   "metadata": {},
   "outputs": [
    {
     "name": "stdout",
     "output_type": "stream",
     "text": [
      "abcccccc\n",
      "abcbc\n"
     ]
    }
   ],
   "source": [
    "import re\n",
    "\n",
    "match1 = re.search(r'(ab)c+',\"abcccccc\")\n",
    "match2 = re.search(r'a(bc)+',\"abcbc\")\n",
    "\n",
    "print(match1.group())\n",
    "\n",
    "print(match2.group())"
   ]
  },
  {
   "cell_type": "markdown",
   "id": "9165c2c0",
   "metadata": {},
   "source": [
    "### Q3. How much do you need to use the following sentence while using regular expressions?"
   ]
  },
  {
   "cell_type": "markdown",
   "id": "05d0aa76",
   "metadata": {},
   "source": [
    " import re\n",
    "\n",
    "We have to use it everytime we use functions of the module re."
   ]
  },
  {
   "cell_type": "markdown",
   "id": "68151a61",
   "metadata": {},
   "source": [
    "### Q4. Which characters have special significance in square brackets when expressing a range, and under what circumstances?"
   ]
  },
  {
   "cell_type": "markdown",
   "id": "35d117e4",
   "metadata": {},
   "source": [
    "### Answer-\n",
    "\\ (backslash) : general escape character, is usd when you use character class metacharacters as literals inside a character class only.\n",
    "\n",
    "^ (circumflex anchor) : negate the class, if this is the first character in the brackets(If ^ is not the first, it is not a metacharacter.)"
   ]
  },
  {
   "cell_type": "markdown",
   "id": "d4aef2d4",
   "metadata": {},
   "source": [
    "### Q5. How does compiling a regular-expression object benefit you?"
   ]
  },
  {
   "cell_type": "markdown",
   "id": "931b1df2",
   "metadata": {},
   "source": [
    "### Answer-\n",
    "It is faster compared to using pattern ad other re functions."
   ]
  },
  {
   "cell_type": "markdown",
   "id": "80d80976",
   "metadata": {},
   "source": [
    "### Q6. What are some examples of how to use the match object returned by re.match and re.search?"
   ]
  },
  {
   "cell_type": "markdown",
   "id": "4f03371b",
   "metadata": {},
   "source": [
    "### Answer-\n",
    "re.search() searches for the whole string even if the string contains multi-lines and tries to find a match of the substring in all the lines of string\n",
    "\n",
    "re.match() searches only from the beginning of the string and return match object if found. But if a match of substring is found somewhere in the middle of the string, it returns none.\n",
    "\n",
    "But, both search() and match() returns only the first occurance of pattern."
   ]
  },
  {
   "cell_type": "code",
   "execution_count": 2,
   "id": "7bc46aa7",
   "metadata": {},
   "outputs": [
    {
     "name": "stdout",
     "output_type": "stream",
     "text": [
      "<re.Match object; span=(0, 7), match='Ineuron'>\n",
      "None\n"
     ]
    }
   ],
   "source": [
    "import re\n",
    "\n",
    "pattern = 'ineuron'\n",
    "\n",
    "search = re.search(pattern,\"Ineuron is the best coaching class ineuron!\",re.IGNORECASE)\n",
    "\n",
    "print(search)\n",
    "\n",
    "match = re.match(pattern,\"The best coaching class is Ineuron!\",re.IGNORECASE)\n",
    "\n",
    "print(match)"
   ]
  },
  {
   "cell_type": "markdown",
   "id": "05901cb0",
   "metadata": {},
   "source": [
    "### Q7. What is the difference between using a vertical bar (|) as an alteration and using square brackets as a character set?"
   ]
  },
  {
   "cell_type": "markdown",
   "id": "d77d68ae",
   "metadata": {},
   "source": [
    "| : is regex or. It will check either of any string is present in search string.\n",
    "\n",
    "[] : This will search for any character is present in string"
   ]
  },
  {
   "cell_type": "code",
   "execution_count": 3,
   "id": "eb3ce0fa",
   "metadata": {},
   "outputs": [
    {
     "name": "stdout",
     "output_type": "stream",
     "text": [
      "['She']\n",
      "['she is great human!']\n"
     ]
    }
   ],
   "source": [
    "import re\n",
    "\n",
    "print(re.findall(\"She|he\", \"She is a great human!\"))\n",
    "\n",
    "print(re.findall(r'[^\\d]+',\"she is great human!\"))"
   ]
  },
  {
   "cell_type": "markdown",
   "id": "2382ab23",
   "metadata": {},
   "source": [
    "### Q8. In regular-expression search patterns, why is it necessary to use the raw-string indicator (r)? In   replacement strings?"
   ]
  },
  {
   "cell_type": "markdown",
   "id": "c1d04b4f",
   "metadata": {},
   "source": [
    "### Answer-\n",
    "r indicates raw string means that the characters ahead are individual charachers not escape characters. It changes how the string literal is interpreted. Such literals are stored as they appear."
   ]
  },
  {
   "cell_type": "code",
   "execution_count": null,
   "id": "056977fb",
   "metadata": {},
   "outputs": [],
   "source": []
  }
 ],
 "metadata": {
  "kernelspec": {
   "display_name": "Python 3 (ipykernel)",
   "language": "python",
   "name": "python3"
  },
  "language_info": {
   "codemirror_mode": {
    "name": "ipython",
    "version": 3
   },
   "file_extension": ".py",
   "mimetype": "text/x-python",
   "name": "python",
   "nbconvert_exporter": "python",
   "pygments_lexer": "ipython3",
   "version": "3.9.13"
  }
 },
 "nbformat": 4,
 "nbformat_minor": 5
}
