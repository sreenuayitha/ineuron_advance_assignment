{
 "cells": [
  {
   "cell_type": "markdown",
   "id": "e0ff7997",
   "metadata": {},
   "source": [
    "### 1. What are the new features added in Python 3.8 version?"
   ]
  },
  {
   "cell_type": "markdown",
   "id": "2191b3e0",
   "metadata": {},
   "source": [
    "### Answer-\n",
    "Positional-only parameters(/)\n",
    "\n",
    "There is a new function parameter syntax “/” which indicates that some function parameters must be specified positionally and can’t be used as keyword arguments.\n",
    "\n",
    "Assignment Expressions(:=)\n",
    "\n",
    "This operator is used to assign and return a value in the same expression. This removes the need for initializing the variable upfront.\n",
    "\n",
    "f-strings now support “=”\n",
    "\n",
    "This string formatting mechanism is known as Literal String Interpolation or more commonly as F-strings (because of the leading f character preceding the string literal). The idea behind f-strings is to make string interpolation simpler. Python 3.8 allows the use of the above-discussed assignment operator and equal sign (=) inside the f-strings.\n",
    "\n",
    "reversed() works with a dictionary Unlike Python 3.7, now in Python 3.8, the built-in method “reversed()” can be used for accessing the elements in the reverse order of insertion.\n",
    "\n",
    "No parentheses for return and yield statements ‘yield’ and ‘return’ statements do not require parentheses to return multiple values.\n",
    "\n",
    "pow() function In the three-argument form of pow(), when the exponent is -1, it calculates the modular multiplicative inverse of the given value.\n",
    "\n",
    "Syntax Warning If you miss a comma in your code such as a = [(1, 2) (3, 4)], instead of throwing TypeError, it displays an informative Syntax warning."
   ]
  },
  {
   "cell_type": "markdown",
   "id": "009469dd",
   "metadata": {},
   "source": [
    "### 2. What is monkey patching in Python?"
   ]
  },
  {
   "cell_type": "markdown",
   "id": "70d234f0",
   "metadata": {},
   "source": [
    "### Answer-\n",
    "In python, monkey patching refers to run-time modifications of a class or module. In Python, we can actually change the behavior of code at run-time."
   ]
  },
  {
   "cell_type": "markdown",
   "id": "2d64c95b",
   "metadata": {},
   "source": [
    "### 3. What is the difference between a shallow copy and deep copy?"
   ]
  },
  {
   "cell_type": "markdown",
   "id": "19ba80b1",
   "metadata": {},
   "source": [
    "### Answer-\n",
    "In python, when we use = operator, it doesnot create a copy of the object. It just creates the variable, which shares a reference to the same memory location. This is called as shallow copy. In deep copy, new object is a copy of old object and it is created at different memory address and any changes made to new object won't be reflected in old object."
   ]
  },
  {
   "cell_type": "markdown",
   "id": "e8102657",
   "metadata": {},
   "source": [
    "### 4. What is the maximum possible length of an identifier?"
   ]
  },
  {
   "cell_type": "markdown",
   "id": "81121631",
   "metadata": {},
   "source": [
    "### Answer-\n",
    "The maximum possible length of an identifier is not defined in Python. It can be any number."
   ]
  },
  {
   "cell_type": "markdown",
   "id": "4bdc0538",
   "metadata": {},
   "source": [
    "### 5. What is generator comprehension?"
   ]
  },
  {
   "cell_type": "markdown",
   "id": "85853c9d",
   "metadata": {},
   "source": [
    "It is like a list comprehension but it returns an iteraor. We use () instead of [] to achieve this."
   ]
  },
  {
   "cell_type": "code",
   "execution_count": 2,
   "id": "46d75042",
   "metadata": {},
   "outputs": [
    {
     "name": "stdout",
     "output_type": "stream",
     "text": [
      "<generator object <genexpr> at 0x000002878E85B7B0>\n",
      "0\n",
      "1\n",
      "2\n",
      "3\n",
      "4\n"
     ]
    }
   ],
   "source": [
    "numbers = (i for i in range(5))\n",
    "\n",
    "print(numbers)\n",
    "\n",
    "print(next(numbers))\n",
    "print(next(numbers))\n",
    "print(next(numbers))\n",
    "print(next(numbers))\n",
    "print(next(numbers))"
   ]
  },
  {
   "cell_type": "code",
   "execution_count": null,
   "id": "beced1ee",
   "metadata": {},
   "outputs": [],
   "source": []
  }
 ],
 "metadata": {
  "kernelspec": {
   "display_name": "Python 3 (ipykernel)",
   "language": "python",
   "name": "python3"
  },
  "language_info": {
   "codemirror_mode": {
    "name": "ipython",
    "version": 3
   },
   "file_extension": ".py",
   "mimetype": "text/x-python",
   "name": "python",
   "nbconvert_exporter": "python",
   "pygments_lexer": "ipython3",
   "version": "3.9.13"
  }
 },
 "nbformat": 4,
 "nbformat_minor": 5
}
