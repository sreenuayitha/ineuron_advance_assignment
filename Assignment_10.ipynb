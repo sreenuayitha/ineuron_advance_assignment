{
 "cells": [
  {
   "cell_type": "markdown",
   "id": "c9ca8b58",
   "metadata": {},
   "source": [
    "### Q1. What is the difference between __getattr__ and __getattribute__?"
   ]
  },
  {
   "cell_type": "markdown",
   "id": "ae39bd00",
   "metadata": {},
   "source": [
    "### Answer-\n",
    "Normally, if we want to access the attribute of a class, we access it with instance of the class like instance.attribute_name. These attributes are already present in the class. Where as, to access the attribute of class which are not defined in the class, we use getattr() method.\n",
    "\n",
    "But if the attribute does exist, getattr won’t be invoked"
   ]
  },
  {
   "cell_type": "code",
   "execution_count": 5,
   "id": "4579c1f0",
   "metadata": {},
   "outputs": [
    {
     "name": "stdout",
     "output_type": "stream",
     "text": [
      "sreenu\n",
      "proddatur\n"
     ]
    }
   ],
   "source": [
    "class sample:\n",
    "    \n",
    "    def __init__(self,name):\n",
    "        self.name=name\n",
    "        \n",
    "    def __getattr__(self,address):\n",
    "        return address.lower()\n",
    "    \n",
    "s=sample('sreenu')\n",
    "print(s.name)\n",
    "print(s.PRODDATUR)\n",
    "        \n",
    "\n",
    "    "
   ]
  },
  {
   "cell_type": "code",
   "execution_count": 6,
   "id": "3b87d229",
   "metadata": {},
   "outputs": [
    {
     "name": "stdout",
     "output_type": "stream",
     "text": [
      "New Value\n"
     ]
    }
   ],
   "source": [
    "class Dummy():\n",
    "\n",
    "    def __getattribute__(self, attr):\n",
    "        return 'New Value'\n",
    "\n",
    "d = Dummy()\n",
    "d.value = \"Old value\"\n",
    "print(d.value)"
   ]
  },
  {
   "cell_type": "markdown",
   "id": "b2efb165",
   "metadata": {},
   "source": [
    "### Q2. What is the difference between properties and descriptors?"
   ]
  },
  {
   "cell_type": "markdown",
   "id": "d1dab88c",
   "metadata": {},
   "source": [
    "### Answer-\n",
    "In Properties, We can bind getter, setter functions with an attribute name, using the built-in property function. In descriptor, We can bind getter, setter (and deleter) functions into a separate class. We then assign an object of this class to the attribute name."
   ]
  },
  {
   "cell_type": "markdown",
   "id": "dd1c63dc",
   "metadata": {},
   "source": [
    "### Q3. What are the key differences in functionality between __getattr__ and __getattribute__, as well as properties and descriptors?"
   ]
  },
  {
   "cell_type": "markdown",
   "id": "b4c0dbc7",
   "metadata": {},
   "source": [
    "### Answer-\n",
    "To access the attribute of class which are not defined in the class, we use getattr() method. But if the attribute does exist, getattr won’t be invoked. getattribute will look for every attribute, doesn’t matter if the attribute exists or not.\n",
    "\n",
    "In Properties, We can bind getter, setter functions with an attribute name, using the built-in property function. In descriptor, We can bind getter, setter (and deleter) functions into a separate class. We then assign an object of this class to the attribute name."
   ]
  },
  {
   "cell_type": "code",
   "execution_count": null,
   "id": "c01bd8ab",
   "metadata": {},
   "outputs": [],
   "source": []
  }
 ],
 "metadata": {
  "kernelspec": {
   "display_name": "Python 3 (ipykernel)",
   "language": "python",
   "name": "python3"
  },
  "language_info": {
   "codemirror_mode": {
    "name": "ipython",
    "version": 3
   },
   "file_extension": ".py",
   "mimetype": "text/x-python",
   "name": "python",
   "nbconvert_exporter": "python",
   "pygments_lexer": "ipython3",
   "version": "3.9.13"
  }
 },
 "nbformat": 4,
 "nbformat_minor": 5
}
