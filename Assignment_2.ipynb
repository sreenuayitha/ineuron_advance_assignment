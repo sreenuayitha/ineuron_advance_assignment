{
 "cells": [
  {
   "cell_type": "markdown",
   "id": "07690641",
   "metadata": {},
   "source": [
    "### Q1. What is the relationship between classes and modules?"
   ]
  },
  {
   "cell_type": "markdown",
   "id": "faf7476d",
   "metadata": {},
   "source": [
    "### Answer-\n",
    "Modules are about providing methods that you can use across multiple classes. Modules are about functions. You dont instantiate modules(e.g. Math module) you just use methods in them.Module is like library of methods. \n",
    "Classes are about objects; it can hold its state (by keeping track of instance variables) and be duplicated as many times as you want. `3"
   ]
  },
  {
   "cell_type": "markdown",
   "id": "fb2481c7",
   "metadata": {},
   "source": [
    "### Q2. How do you make instances and classes?"
   ]
  },
  {
   "cell_type": "markdown",
   "id": "575b3ede",
   "metadata": {},
   "source": [
    "### Answer-\n",
    "To create instances of a class, you call the class using class name and pass in whatever arguments its init method accepts.\n",
    "\n",
    "            The class statement creates a new class definition. The name of the class immediately follows the keyword class followed by a colon.Explained below "
   ]
  },
  {
   "cell_type": "code",
   "execution_count": 4,
   "id": "0fbdb05b",
   "metadata": {},
   "outputs": [
    {
     "name": "stdout",
     "output_type": "stream",
     "text": [
      "This is sreenu (an instanace of a class student)\n"
     ]
    }
   ],
   "source": [
    "class student:\n",
    "    def __init__(self,name):\n",
    "        self.name=name\n",
    "        \n",
    "    def __str__(self):\n",
    "        return f\"This is {self.name} (an instanace of a class student)\"\n",
    "    \n",
    "stu=student(\"sreenu\")\n",
    "print(stu)"
   ]
  },
  {
   "cell_type": "markdown",
   "id": "8659d62f",
   "metadata": {},
   "source": [
    "### Q3. Where and how should be class attributes created?"
   ]
  },
  {
   "cell_type": "markdown",
   "id": "2aa03907",
   "metadata": {},
   "source": [
    "##### Class attributes belong to the class itself they will be shared by all the instances. Such attributes are defined in the class body parts usually at the top, for legibility."
   ]
  },
  {
   "cell_type": "code",
   "execution_count": 11,
   "id": "18d480e7",
   "metadata": {},
   "outputs": [
    {
     "name": "stdout",
     "output_type": "stream",
     "text": [
      "The class teacher of sreenu is: \n",
      "PPN prasad\n"
     ]
    }
   ],
   "source": [
    "class student:\n",
    "    class_teacher=\"PPN prasad\"\n",
    "    \n",
    "    def __init__(self,name,roll_no):\n",
    "        self.name=name\n",
    "        self.roll_no=roll_no\n",
    "        \n",
    "    def __str__(self):\n",
    "        return f\"The class teacher of {self.name} is: \"\n",
    "    \n",
    "stu=student('sreenu',43)\n",
    "print(stu)\n",
    "print(stu.class_teacher)\n"
   ]
  },
  {
   "cell_type": "markdown",
   "id": "71c79a4e",
   "metadata": {},
   "source": [
    "### Q4. Where and how are instance attributes created?"
   ]
  },
  {
   "cell_type": "markdown",
   "id": "891cc0d2",
   "metadata": {},
   "source": [
    "Unlike class attributes, instance attributes are not shared by objects. Every object has its own copy of the instance attribute. They are created in init method. How they are created is Explained below::"
   ]
  },
  {
   "cell_type": "code",
   "execution_count": 14,
   "id": "bc682e4b",
   "metadata": {},
   "outputs": [
    {
     "name": "stdout",
     "output_type": "stream",
     "text": [
      "sreenu\n",
      "43\n"
     ]
    }
   ],
   "source": [
    "class student:\n",
    "    \n",
    "    def __init__(self,name,roll_no):\n",
    "        self.name=name\n",
    "        self.roll_no=roll_no\n",
    "        \n",
    "    def __str__(self):\n",
    "        return f\"This is {self.name} (an instance class member)\"\n",
    "    \n",
    "stu=student('sreenu',43)\n",
    "print(stu.name)\n",
    "print(stu.roll_no)"
   ]
  },
  {
   "cell_type": "markdown",
   "id": "2d769fe3",
   "metadata": {},
   "source": [
    "### Q5. What does the term &quot;self&quot; in a Python class mean?"
   ]
  },
  {
   "cell_type": "markdown",
   "id": "484fff14",
   "metadata": {},
   "source": [
    "### Answer-\n",
    "Self represents the instance of the class. By using the “self” keyword we can access the attributes and methods of the class in python. It binds the attributes with the given arguments.The reason you need to use self. is because Python does not use the @ syntax to refer to instance attributes. Python decided to do methods in a way that makes the instance to which the method belongs be passed automatically, but not received automatically: the first parameter of methods is the instance the method is called on."
   ]
  },
  {
   "cell_type": "markdown",
   "id": "edc80bff",
   "metadata": {},
   "source": [
    "### Q6. How does a Python class handle operator overloading?"
   ]
  },
  {
   "cell_type": "markdown",
   "id": "aa668d85",
   "metadata": {},
   "source": [
    "### Answer-\n",
    "Operator Overloading means giving extended meaning beyond their predefined operational meaning. For example operator + is used to add two integers as well as join two strings and merge two lists. It is achievable because ‘+’ operator is overloaded by int class and str class."
   ]
  },
  {
   "cell_type": "code",
   "execution_count": 15,
   "id": "6a3d6a25",
   "metadata": {},
   "outputs": [
    {
     "name": "stdout",
     "output_type": "stream",
     "text": [
      "3\n",
      "6\n",
      "sreenuayitha\n",
      "sreenusreenusreenu\n"
     ]
    }
   ],
   "source": [
    "print(1+2)\n",
    "print(2*3)\n",
    "print(\"sreenu\"+\"ayitha\")\n",
    "print(\"sreenu\"*3)"
   ]
  },
  {
   "cell_type": "markdown",
   "id": "a02487d6",
   "metadata": {},
   "source": [
    "### Q7. When do you consider allowing operator overloading of your classes?"
   ]
  },
  {
   "cell_type": "markdown",
   "id": "b8b0116d",
   "metadata": {},
   "source": [
    "### Answer-\n",
    "Let us assumewe have an object called string1 which is a string object as defined below. Now, when we try to add a string to this string object, the compiler will throw an error. This is because the compiler doesn't know how to add them."
   ]
  },
  {
   "cell_type": "code",
   "execution_count": 16,
   "id": "8b6d7ff8",
   "metadata": {},
   "outputs": [
    {
     "ename": "TypeError",
     "evalue": "unsupported operand type(s) for +: 'String' and 'str'",
     "output_type": "error",
     "traceback": [
      "\u001b[1;31m---------------------------------------------------------------------------\u001b[0m",
      "\u001b[1;31mTypeError\u001b[0m                                 Traceback (most recent call last)",
      "\u001b[1;32m~\\AppData\\Local\\Temp\\ipykernel_24156\\1904128351.py\u001b[0m in \u001b[0;36m<module>\u001b[1;34m\u001b[0m\n\u001b[0;32m      9\u001b[0m \u001b[1;33m\u001b[0m\u001b[0m\n\u001b[0;32m     10\u001b[0m \u001b[1;31m# concatenate String object and a string\u001b[0m\u001b[1;33m\u001b[0m\u001b[1;33m\u001b[0m\u001b[0m\n\u001b[1;32m---> 11\u001b[1;33m \u001b[0mprint\u001b[0m\u001b[1;33m(\u001b[0m\u001b[0mstring1\u001b[0m \u001b[1;33m+\u001b[0m\u001b[1;34m' world'\u001b[0m\u001b[1;33m)\u001b[0m\u001b[1;33m\u001b[0m\u001b[1;33m\u001b[0m\u001b[0m\n\u001b[0m",
      "\u001b[1;31mTypeError\u001b[0m: unsupported operand type(s) for +: 'String' and 'str'"
     ]
    }
   ],
   "source": [
    "# declare our own string class\n",
    "class String:\n",
    "    def __init__(self, string):\n",
    "            self.string = string         \n",
    "    def __repr__(self):\n",
    "        return 'Object: {}'.format(self.string)\n",
    "\n",
    "string1 = String('Hello')    \n",
    "\n",
    "# concatenate String object and a string\n",
    "print(string1 +' world')"
   ]
  },
  {
   "cell_type": "markdown",
   "id": "44058e26",
   "metadata": {},
   "source": [
    "### This error can be avoided by adding the __ add__ method to the String class. This way, we are overloading the + operator to concatenate a string object with a string."
   ]
  },
  {
   "cell_type": "code",
   "execution_count": 17,
   "id": "bb9658b0",
   "metadata": {},
   "outputs": [
    {
     "name": "stdout",
     "output_type": "stream",
     "text": [
      "Hello world\n"
     ]
    }
   ],
   "source": [
    "class String:\n",
    "    def __init__(self, string):\n",
    "            self.string = string         \n",
    "                \n",
    "    def __add__(self, other):\n",
    "          return self.string + other\n",
    "            \n",
    "    def __repr__(self):\n",
    "        return 'Object: {}'.format(self.string)\n",
    "\n",
    "string1 = String('Hello')    \n",
    "\n",
    "# concatenate String object and a string\n",
    "print(string1 +' world')"
   ]
  },
  {
   "cell_type": "markdown",
   "id": "573f51b6",
   "metadata": {},
   "source": [
    "### Q8. What is the most popular form of operator overloading?"
   ]
  },
  {
   "cell_type": "markdown",
   "id": "4d825828",
   "metadata": {},
   "source": [
    "I feel, most popular form of operator overloading is of addition (+) operator. When two integers are passed to + operator, it will return the sum of two integers. When two strings are passed to + operator, it will return concatenation of two strings."
   ]
  },
  {
   "cell_type": "markdown",
   "id": "c7bc9228",
   "metadata": {},
   "source": [
    "### Q9. What are the two most important concepts to grasp in order to comprehend Python OOP code?"
   ]
  },
  {
   "cell_type": "markdown",
   "id": "74579194",
   "metadata": {},
   "source": [
    "1.Inheritance.\n",
    "\n",
    "2.Polymorphism."
   ]
  },
  {
   "cell_type": "code",
   "execution_count": null,
   "id": "2cc64196",
   "metadata": {},
   "outputs": [],
   "source": []
  }
 ],
 "metadata": {
  "kernelspec": {
   "display_name": "Python 3 (ipykernel)",
   "language": "python",
   "name": "python3"
  },
  "language_info": {
   "codemirror_mode": {
    "name": "ipython",
    "version": 3
   },
   "file_extension": ".py",
   "mimetype": "text/x-python",
   "name": "python",
   "nbconvert_exporter": "python",
   "pygments_lexer": "ipython3",
   "version": "3.9.13"
  }
 },
 "nbformat": 4,
 "nbformat_minor": 5
}
